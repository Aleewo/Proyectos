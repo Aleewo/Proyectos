{
 "cells": [
  {
   "cell_type": "markdown",
   "metadata": {},
   "source": [
    "# Predicción de Abandono de Clientes en Beta Bank\n",
    "\n",
    "# Introducción\n",
    "\n",
    "Beta Bank ha notado una tendencia preocupante: cada mes, algunos de sus clientes deciden abandonar el banco. Después de realizar algunos estudios, los banqueros descubrieron que es más barato y eficiente retener a los clientes existentes que atraer nuevos. Por lo tanto, es crucial identificar de manera temprana a los clientes que podrían abandonar el banco para tomar medidas preventivas.\n",
    "\n",
    "En este proyecto, nuestro objetivo es crear un modelo predictivo capaz de identificar qué clientes están en riesgo de abandonar el banco. Para ello, utilizaremos un conjunto de datos que contiene información sobre el comportamiento pasado de los clientes y su decisión de seguir o no con el banco.\n",
    "\n",
    "# Objetivo\n",
    "\n",
    "El objetivo de este proyecto es desarrollar un modelo de clasificación con el mejor valor F1 posible. El modelo debe ser capaz de predecir si un cliente abandonará el banco en un futuro cercano. Además, evaluaremos el desempeño del modelo utilizando las métricas F1 y AUC-ROC. Para aprobar el proyecto, necesitamos alcanzar un valor F1 de al menos 0.59 en el conjunto de prueba.\n",
    "\n",
    "# Etapas del proyecto\n",
    "\n",
    "1. **Cargar y preparar los datos**: Procesar el conjunto de datos, asegurarse de que los tipos de datos sean correctos y preparar las características para el entrenamiento del modelo.\n",
    "2. **Análisis exploratorio de datos**: Examinar los datos para entender mejor su estructura y comportamiento.\n",
    "3. **Entrenamiento del modelo sin corregir el desequilibrio**: Entrenar el modelo sin aplicar correcciones para el desequilibrio de clases, obteniendo una línea base.\n",
    "4. **Corrección del desequilibrio de clases**: Aplicar al menos dos técnicas para corregir el desequilibrio y mejorar el rendimiento del modelo.\n",
    "5. **Evaluación del modelo**: Evaluar el modelo en el conjunto de prueba, midiendo las métricas F1 y AUC-ROC.\n",
    "6. **Prueba final y conclusiones**: Realizar la prueba final del modelo y sacar conclusiones sobre su desempeño."
   ]
  },
  {
   "cell_type": "code",
   "execution_count": 1,
   "metadata": {},
   "outputs": [],
   "source": [
    "# Importar las librerías necesarias\n",
    "import pandas as pd\n",
    "from sklearn.model_selection import train_test_split\n",
    "from sklearn.ensemble import RandomForestClassifier\n",
    "from sklearn.metrics import f1_score, roc_auc_score\n",
    "from sklearn.preprocessing import StandardScaler\n",
    "from sklearn.model_selection import GridSearchCV\n",
    "from sklearn.model_selection import StratifiedKFold, cross_val_score"
   ]
  },
  {
   "cell_type": "markdown",
   "metadata": {},
   "source": [
    "## Cargar y Preparar los Datos\n",
    "\n",
    "El conjunto de datos fue cargado desde el archivo `Churn.csv`. Contiene información detallada sobre los clientes de Beta Bank, como su comportamiento financiero y si han decidido dejar el banco o no. A continuación, cargamos los datos y mostramos las primeras filas del dataframe para entender mejor su estructura."
   ]
  },
  {
   "cell_type": "code",
   "execution_count": 2,
   "metadata": {},
   "outputs": [
    {
     "data": {
      "text/html": [
       "<div>\n",
       "<style scoped>\n",
       "    .dataframe tbody tr th:only-of-type {\n",
       "        vertical-align: middle;\n",
       "    }\n",
       "\n",
       "    .dataframe tbody tr th {\n",
       "        vertical-align: top;\n",
       "    }\n",
       "\n",
       "    .dataframe thead th {\n",
       "        text-align: right;\n",
       "    }\n",
       "</style>\n",
       "<table border=\"1\" class=\"dataframe\">\n",
       "  <thead>\n",
       "    <tr style=\"text-align: right;\">\n",
       "      <th></th>\n",
       "      <th>RowNumber</th>\n",
       "      <th>CustomerId</th>\n",
       "      <th>Surname</th>\n",
       "      <th>CreditScore</th>\n",
       "      <th>Geography</th>\n",
       "      <th>Gender</th>\n",
       "      <th>Age</th>\n",
       "      <th>Tenure</th>\n",
       "      <th>Balance</th>\n",
       "      <th>NumOfProducts</th>\n",
       "      <th>HasCrCard</th>\n",
       "      <th>IsActiveMember</th>\n",
       "      <th>EstimatedSalary</th>\n",
       "      <th>Exited</th>\n",
       "    </tr>\n",
       "  </thead>\n",
       "  <tbody>\n",
       "    <tr>\n",
       "      <th>0</th>\n",
       "      <td>1</td>\n",
       "      <td>15634602</td>\n",
       "      <td>Hargrave</td>\n",
       "      <td>619</td>\n",
       "      <td>France</td>\n",
       "      <td>Female</td>\n",
       "      <td>42</td>\n",
       "      <td>2.0</td>\n",
       "      <td>0.00</td>\n",
       "      <td>1</td>\n",
       "      <td>1</td>\n",
       "      <td>1</td>\n",
       "      <td>101348.88</td>\n",
       "      <td>1</td>\n",
       "    </tr>\n",
       "    <tr>\n",
       "      <th>1</th>\n",
       "      <td>2</td>\n",
       "      <td>15647311</td>\n",
       "      <td>Hill</td>\n",
       "      <td>608</td>\n",
       "      <td>Spain</td>\n",
       "      <td>Female</td>\n",
       "      <td>41</td>\n",
       "      <td>1.0</td>\n",
       "      <td>83807.86</td>\n",
       "      <td>1</td>\n",
       "      <td>0</td>\n",
       "      <td>1</td>\n",
       "      <td>112542.58</td>\n",
       "      <td>0</td>\n",
       "    </tr>\n",
       "    <tr>\n",
       "      <th>2</th>\n",
       "      <td>3</td>\n",
       "      <td>15619304</td>\n",
       "      <td>Onio</td>\n",
       "      <td>502</td>\n",
       "      <td>France</td>\n",
       "      <td>Female</td>\n",
       "      <td>42</td>\n",
       "      <td>8.0</td>\n",
       "      <td>159660.80</td>\n",
       "      <td>3</td>\n",
       "      <td>1</td>\n",
       "      <td>0</td>\n",
       "      <td>113931.57</td>\n",
       "      <td>1</td>\n",
       "    </tr>\n",
       "    <tr>\n",
       "      <th>3</th>\n",
       "      <td>4</td>\n",
       "      <td>15701354</td>\n",
       "      <td>Boni</td>\n",
       "      <td>699</td>\n",
       "      <td>France</td>\n",
       "      <td>Female</td>\n",
       "      <td>39</td>\n",
       "      <td>1.0</td>\n",
       "      <td>0.00</td>\n",
       "      <td>2</td>\n",
       "      <td>0</td>\n",
       "      <td>0</td>\n",
       "      <td>93826.63</td>\n",
       "      <td>0</td>\n",
       "    </tr>\n",
       "    <tr>\n",
       "      <th>4</th>\n",
       "      <td>5</td>\n",
       "      <td>15737888</td>\n",
       "      <td>Mitchell</td>\n",
       "      <td>850</td>\n",
       "      <td>Spain</td>\n",
       "      <td>Female</td>\n",
       "      <td>43</td>\n",
       "      <td>2.0</td>\n",
       "      <td>125510.82</td>\n",
       "      <td>1</td>\n",
       "      <td>1</td>\n",
       "      <td>1</td>\n",
       "      <td>79084.10</td>\n",
       "      <td>0</td>\n",
       "    </tr>\n",
       "  </tbody>\n",
       "</table>\n",
       "</div>"
      ],
      "text/plain": [
       "   RowNumber  CustomerId   Surname  CreditScore Geography  Gender  Age  \\\n",
       "0          1    15634602  Hargrave          619    France  Female   42   \n",
       "1          2    15647311      Hill          608     Spain  Female   41   \n",
       "2          3    15619304      Onio          502    France  Female   42   \n",
       "3          4    15701354      Boni          699    France  Female   39   \n",
       "4          5    15737888  Mitchell          850     Spain  Female   43   \n",
       "\n",
       "   Tenure    Balance  NumOfProducts  HasCrCard  IsActiveMember  \\\n",
       "0     2.0       0.00              1          1               1   \n",
       "1     1.0   83807.86              1          0               1   \n",
       "2     8.0  159660.80              3          1               0   \n",
       "3     1.0       0.00              2          0               0   \n",
       "4     2.0  125510.82              1          1               1   \n",
       "\n",
       "   EstimatedSalary  Exited  \n",
       "0        101348.88       1  \n",
       "1        112542.58       0  \n",
       "2        113931.57       1  \n",
       "3         93826.63       0  \n",
       "4         79084.10       0  "
      ]
     },
     "execution_count": 2,
     "metadata": {},
     "output_type": "execute_result"
    }
   ],
   "source": [
    "# Cargar los datos\n",
    "df = pd.read_csv('/datasets/Churn.csv')\n",
    "\n",
    "# Mostrar las primeras filas del dataframe\n",
    "df.head()"
   ]
  },
  {
   "cell_type": "code",
   "execution_count": 3,
   "metadata": {},
   "outputs": [
    {
     "name": "stdout",
     "output_type": "stream",
     "text": [
      "Valores nulos en cada columna:\n",
      "RowNumber            0\n",
      "CustomerId           0\n",
      "Surname              0\n",
      "CreditScore          0\n",
      "Geography            0\n",
      "Gender               0\n",
      "Age                  0\n",
      "Tenure             909\n",
      "Balance              0\n",
      "NumOfProducts        0\n",
      "HasCrCard            0\n",
      "IsActiveMember       0\n",
      "EstimatedSalary      0\n",
      "Exited               0\n",
      "dtype: int64\n"
     ]
    }
   ],
   "source": [
    "# Verificar si existen valores nulos en el dataframe\n",
    "print(\"Valores nulos en cada columna:\")\n",
    "print(df.isnull().sum())"
   ]
  },
  {
   "cell_type": "code",
   "execution_count": 4,
   "metadata": {},
   "outputs": [
    {
     "name": "stdout",
     "output_type": "stream",
     "text": [
      "\n",
      "Porcentaje de valores nulos en la columna 'Tenure': 9.09%\n"
     ]
    }
   ],
   "source": [
    "# Verificar el porcentaje de valores nulos en la columna Tenure\n",
    "missing_tenure_percentage = (df['Tenure'].isnull().sum() / len(df)) * 100\n",
    "print(f\"\\nPorcentaje de valores nulos en la columna 'Tenure': {missing_tenure_percentage:.2f}%\")"
   ]
  },
  {
   "cell_type": "markdown",
   "metadata": {},
   "source": [
    "### Tratamiento de valores nulos\n",
    "Encontramos valores nulos en la columna `Tenure`. Dado que esta columna representa el tiempo (en años) que un cliente ha estado con el banco, decidimos rellenar los valores nulos con la **mediana** de la columna.\n",
    "\n",
    "Elegimos la mediana porque es más robusta frente a valores atípicos que podrían estar presentes en la columna `Tenure`. La mediana nos permite rellenar los valores faltantes de una manera que minimiza el impacto de cualquier posible sesgo o distribución asimétrica en los datos. Usar la media, en cambio, podría verse afectada por valores extremos, lo cual no es ideal en este caso."
   ]
  },
  {
   "cell_type": "code",
   "execution_count": 5,
   "metadata": {},
   "outputs": [
    {
     "name": "stdout",
     "output_type": "stream",
     "text": [
      "\n",
      "Valores nulos después de la corrección en la columna 'Tenure':\n",
      "0\n"
     ]
    }
   ],
   "source": [
    "# Calcular la mediana de la columna Tenure\n",
    "median_tenure = df['Tenure'].median()\n",
    "\n",
    "# Rellenar los valores nulos en la columna Tenure con la mediana\n",
    "df['Tenure'].fillna(median_tenure, inplace=True)\n",
    "\n",
    "# Verificar si aún quedan valores nulos en la columna Tenure\n",
    "print(\"\\nValores nulos después de la corrección en la columna 'Tenure':\")\n",
    "print(df['Tenure'].isnull().sum())"
   ]
  },
  {
   "cell_type": "code",
   "execution_count": 6,
   "metadata": {
    "scrolled": true
   },
   "outputs": [
    {
     "data": {
      "text/html": [
       "<div>\n",
       "<style scoped>\n",
       "    .dataframe tbody tr th:only-of-type {\n",
       "        vertical-align: middle;\n",
       "    }\n",
       "\n",
       "    .dataframe tbody tr th {\n",
       "        vertical-align: top;\n",
       "    }\n",
       "\n",
       "    .dataframe thead th {\n",
       "        text-align: right;\n",
       "    }\n",
       "</style>\n",
       "<table border=\"1\" class=\"dataframe\">\n",
       "  <thead>\n",
       "    <tr style=\"text-align: right;\">\n",
       "      <th></th>\n",
       "      <th>RowNumber</th>\n",
       "      <th>CustomerId</th>\n",
       "      <th>Surname</th>\n",
       "      <th>CreditScore</th>\n",
       "      <th>Age</th>\n",
       "      <th>Tenure</th>\n",
       "      <th>Balance</th>\n",
       "      <th>NumOfProducts</th>\n",
       "      <th>HasCrCard</th>\n",
       "      <th>IsActiveMember</th>\n",
       "      <th>EstimatedSalary</th>\n",
       "      <th>Exited</th>\n",
       "      <th>Geography_Germany</th>\n",
       "      <th>Geography_Spain</th>\n",
       "      <th>Gender_Male</th>\n",
       "    </tr>\n",
       "  </thead>\n",
       "  <tbody>\n",
       "    <tr>\n",
       "      <th>0</th>\n",
       "      <td>1</td>\n",
       "      <td>15634602</td>\n",
       "      <td>Hargrave</td>\n",
       "      <td>619</td>\n",
       "      <td>42</td>\n",
       "      <td>2.0</td>\n",
       "      <td>0.00</td>\n",
       "      <td>1</td>\n",
       "      <td>1</td>\n",
       "      <td>1</td>\n",
       "      <td>101348.88</td>\n",
       "      <td>1</td>\n",
       "      <td>0</td>\n",
       "      <td>0</td>\n",
       "      <td>0</td>\n",
       "    </tr>\n",
       "    <tr>\n",
       "      <th>1</th>\n",
       "      <td>2</td>\n",
       "      <td>15647311</td>\n",
       "      <td>Hill</td>\n",
       "      <td>608</td>\n",
       "      <td>41</td>\n",
       "      <td>1.0</td>\n",
       "      <td>83807.86</td>\n",
       "      <td>1</td>\n",
       "      <td>0</td>\n",
       "      <td>1</td>\n",
       "      <td>112542.58</td>\n",
       "      <td>0</td>\n",
       "      <td>0</td>\n",
       "      <td>1</td>\n",
       "      <td>0</td>\n",
       "    </tr>\n",
       "    <tr>\n",
       "      <th>2</th>\n",
       "      <td>3</td>\n",
       "      <td>15619304</td>\n",
       "      <td>Onio</td>\n",
       "      <td>502</td>\n",
       "      <td>42</td>\n",
       "      <td>8.0</td>\n",
       "      <td>159660.80</td>\n",
       "      <td>3</td>\n",
       "      <td>1</td>\n",
       "      <td>0</td>\n",
       "      <td>113931.57</td>\n",
       "      <td>1</td>\n",
       "      <td>0</td>\n",
       "      <td>0</td>\n",
       "      <td>0</td>\n",
       "    </tr>\n",
       "    <tr>\n",
       "      <th>3</th>\n",
       "      <td>4</td>\n",
       "      <td>15701354</td>\n",
       "      <td>Boni</td>\n",
       "      <td>699</td>\n",
       "      <td>39</td>\n",
       "      <td>1.0</td>\n",
       "      <td>0.00</td>\n",
       "      <td>2</td>\n",
       "      <td>0</td>\n",
       "      <td>0</td>\n",
       "      <td>93826.63</td>\n",
       "      <td>0</td>\n",
       "      <td>0</td>\n",
       "      <td>0</td>\n",
       "      <td>0</td>\n",
       "    </tr>\n",
       "    <tr>\n",
       "      <th>4</th>\n",
       "      <td>5</td>\n",
       "      <td>15737888</td>\n",
       "      <td>Mitchell</td>\n",
       "      <td>850</td>\n",
       "      <td>43</td>\n",
       "      <td>2.0</td>\n",
       "      <td>125510.82</td>\n",
       "      <td>1</td>\n",
       "      <td>1</td>\n",
       "      <td>1</td>\n",
       "      <td>79084.10</td>\n",
       "      <td>0</td>\n",
       "      <td>0</td>\n",
       "      <td>1</td>\n",
       "      <td>0</td>\n",
       "    </tr>\n",
       "  </tbody>\n",
       "</table>\n",
       "</div>"
      ],
      "text/plain": [
       "   RowNumber  CustomerId   Surname  CreditScore  Age  Tenure    Balance  \\\n",
       "0          1    15634602  Hargrave          619   42     2.0       0.00   \n",
       "1          2    15647311      Hill          608   41     1.0   83807.86   \n",
       "2          3    15619304      Onio          502   42     8.0  159660.80   \n",
       "3          4    15701354      Boni          699   39     1.0       0.00   \n",
       "4          5    15737888  Mitchell          850   43     2.0  125510.82   \n",
       "\n",
       "   NumOfProducts  HasCrCard  IsActiveMember  EstimatedSalary  Exited  \\\n",
       "0              1          1               1        101348.88       1   \n",
       "1              1          0               1        112542.58       0   \n",
       "2              3          1               0        113931.57       1   \n",
       "3              2          0               0         93826.63       0   \n",
       "4              1          1               1         79084.10       0   \n",
       "\n",
       "   Geography_Germany  Geography_Spain  Gender_Male  \n",
       "0                  0                0            0  \n",
       "1                  0                1            0  \n",
       "2                  0                0            0  \n",
       "3                  0                0            0  \n",
       "4                  0                1            0  "
      ]
     },
     "execution_count": 6,
     "metadata": {},
     "output_type": "execute_result"
    }
   ],
   "source": [
    "# Crear variables dummies para las columnas categóricas 'Geography' y 'Gender'\n",
    "df = pd.get_dummies(df, columns=['Geography', 'Gender'], drop_first=True)\n",
    "\n",
    "# Verificar las primeras filas del dataframe después de la codificación\n",
    "df.head()"
   ]
  },
  {
   "cell_type": "markdown",
   "metadata": {},
   "source": [
    "### Escalado de características\n",
    "Escalamos las características numéricas para asegurarnos de que los modelos de machine learning puedan aprender de manera efectiva de los datos. El escalado es importante para algoritmos sensibles a la escala de los datos."
   ]
  },
  {
   "cell_type": "code",
   "execution_count": 7,
   "metadata": {},
   "outputs": [
    {
     "name": "stdout",
     "output_type": "stream",
     "text": [
      "Conjunto de entrenamiento: (8000, 11), Conjunto de prueba: (2000, 11)\n"
     ]
    }
   ],
   "source": [
    "# Definir las características (X) y el objetivo (y)\n",
    "X = df.drop(columns=['RowNumber', 'CustomerId', 'Surname', 'Exited'])\n",
    "y = df['Exited']\n",
    "\n",
    "# Dividir los datos en conjuntos de entrenamiento y prueba (80% entrenamiento, 20% prueba)\n",
    "X_train, X_test, y_train, y_test = train_test_split(X, y, test_size=0.2, random_state=42)\n",
    "\n",
    "# Verificar las dimensiones de los conjuntos resultantes\n",
    "print(f\"Conjunto de entrenamiento: {X_train.shape}, Conjunto de prueba: {X_test.shape}\")\n",
    "\n",
    "# Inicializar el escalador SOLO con el conjunto de entrenamiento\n",
    "scaler = StandardScaler()\n",
    "\n",
    "# Ajustar el escalador en el conjunto de entrenamiento y transformar los datos\n",
    "X_train_scaled = scaler.fit_transform(X_train)\n",
    "\n",
    "# Usar el mismo escalador para transformar el conjunto de prueba (sin ajustar de nuevo)\n",
    "X_test_scaled = scaler.transform(X_test)"
   ]
  },
  {
   "cell_type": "code",
   "execution_count": 8,
   "metadata": {},
   "outputs": [
    {
     "name": "stdout",
     "output_type": "stream",
     "text": [
      "F1 Score del modelo con submuestreo: 0.5851\n",
      "AUC-ROC del modelo con submuestreo: 0.8609\n"
     ]
    }
   ],
   "source": [
    "# Inicializar el modelo Random Forest sin ajuste de pesos\n",
    "rf_model_under = RandomForestClassifier(random_state=42)\n",
    "\n",
    "# Entrenar el modelo en los datos submuestreados y escalados\n",
    "rf_model_under.fit(X_train_scaled, y_train)\n",
    "\n",
    "# Hacer predicciones en el conjunto de prueba escalado\n",
    "y_pred_under = rf_model_under.predict(X_test_scaled)\n",
    "\n",
    "# Calcular el valor F1\n",
    "f1_under = f1_score(y_test, y_pred_under)\n",
    "\n",
    "# Calcular la métrica AUC-ROC\n",
    "y_pred_proba_under = rf_model_under.predict_proba(X_test_scaled)[:, 1]\n",
    "auc_roc_under = roc_auc_score(y_test, y_pred_proba_under)\n",
    "\n",
    "# Mostrar los resultados\n",
    "print(f\"F1 Score del modelo con submuestreo: {f1_under:.4f}\")\n",
    "print(f\"AUC-ROC del modelo con submuestreo: {auc_roc_under:.4f}\")"
   ]
  },
  {
   "cell_type": "markdown",
   "metadata": {},
   "source": [
    "### Manejo del desequilibrio de clases\n",
    "Dado que tenemos un desequilibrio de clases (más clientes que se quedan en el banco que los que se van), aplicamos submuestreo para equilibrar las clases y evitar que el modelo favorezca la clase mayoritaria."
   ]
  },
  {
   "cell_type": "code",
   "execution_count": 9,
   "metadata": {},
   "outputs": [
    {
     "name": "stdout",
     "output_type": "stream",
     "text": [
      "F1 Score promedio con validación cruzada estratificada: 0.5681\n",
      "AUC-ROC promedio con validación cruzada estratificada: 0.8520\n",
      "F1 Score del modelo con ajuste de pesos: 0.5664\n",
      "AUC-ROC del modelo con ajuste de pesos: 0.8529\n"
     ]
    }
   ],
   "source": [
    "# Inicializar el modelo Random Forest con ajuste de pesos 'balanced'\n",
    "rf_model_balanced = RandomForestClassifier(random_state=42, class_weight='balanced')\n",
    "\n",
    "# Inicializar Stratified K-Fold Cross Validation\n",
    "skf = StratifiedKFold(n_splits=5, shuffle=True, random_state=42)\n",
    "\n",
    "# Calcular F1 y AUC-ROC usando validación cruzada\n",
    "f1_scores = cross_val_score(rf_model_balanced, X_train_scaled, y_train, cv=skf, scoring='f1')\n",
    "auc_scores = cross_val_score(rf_model_balanced, X_train_scaled, y_train, cv=skf, scoring='roc_auc')\n",
    "\n",
    "# Mostrar los resultados promedio de validación cruzada\n",
    "print(f\"F1 Score promedio con validación cruzada estratificada: {f1_scores.mean():.4f}\")\n",
    "print(f\"AUC-ROC promedio con validación cruzada estratificada: {auc_scores.mean():.4f}\")\n",
    "\n",
    "# Entrenar el modelo en todo el conjunto de entrenamiento\n",
    "rf_model_balanced.fit(X_train_scaled, y_train)\n",
    "\n",
    "# Hacer predicciones en el conjunto de prueba escalado\n",
    "y_pred_balanced = rf_model_balanced.predict(X_test_scaled)\n",
    "\n",
    "# Calcular F1 y AUC-ROC en el conjunto de prueba\n",
    "f1_balanced = f1_score(y_test, y_pred_balanced)\n",
    "y_pred_proba_balanced = rf_model_balanced.predict_proba(X_test_scaled)[:, 1]\n",
    "auc_roc_balanced = roc_auc_score(y_test, y_pred_proba_balanced)\n",
    "\n",
    "# Mostrar los resultados finales\n",
    "print(f\"F1 Score del modelo con ajuste de pesos: {f1_balanced:.4f}\")\n",
    "print(f\"AUC-ROC del modelo con ajuste de pesos: {auc_roc_balanced:.4f}\")"
   ]
  },
  {
   "cell_type": "markdown",
   "metadata": {},
   "source": [
    "### Ajuste de Hiperparámetros\n",
    "Utilizamos GridSearchCV para encontrar la mejor combinación de hiperparámetros para el modelo de Random Forest. Exploramos diferentes profundidades máximas de los árboles y el número de estimadores."
   ]
  },
  {
   "cell_type": "code",
   "execution_count": 10,
   "metadata": {},
   "outputs": [
    {
     "name": "stdout",
     "output_type": "stream",
     "text": [
      "Mejores hiperparámetros: {'max_depth': None, 'n_estimators': 200}\n",
      "F1 Score con ajuste de hiperparámetros: 0.5842\n",
      "AUC-ROC con ajuste de hiperparámetros: 0.8600\n"
     ]
    }
   ],
   "source": [
    "# Definir los hiperparámetros que queremos ajustar\n",
    "param_grid = {\n",
    "    'n_estimators': [50, 100, 200],\n",
    "    'max_depth': [5, 10, 20, None]\n",
    "}\n",
    "\n",
    "# Inicializar el modelo Random Forest\n",
    "rf_model = RandomForestClassifier(random_state=42)\n",
    "\n",
    "# Inicializar GridSearchCV para buscar los mejores hiperparámetros\n",
    "grid_search = GridSearchCV(estimator=rf_model, param_grid=param_grid, cv=3, scoring='f1')\n",
    "\n",
    "# Entrenar GridSearchCV con los datos escalados\n",
    "grid_search.fit(X_train_scaled, y_train)\n",
    "\n",
    "# Obtener los mejores parámetros encontrados por GridSearchCV\n",
    "best_params = grid_search.best_params_\n",
    "\n",
    "# Entrenar el modelo con los mejores parámetros\n",
    "best_rf_model = grid_search.best_estimator_\n",
    "\n",
    "# Hacer predicciones en el conjunto de prueba escalado\n",
    "y_pred_best = best_rf_model.predict(X_test_scaled)\n",
    "\n",
    "# Calcular el F1 Score y AUC-ROC\n",
    "f1_best = f1_score(y_test, y_pred_best)\n",
    "y_pred_proba_best = best_rf_model.predict_proba(X_test_scaled)[:, 1]\n",
    "auc_roc_best = roc_auc_score(y_test, y_pred_proba_best)\n",
    "\n",
    "# Mostrar los resultados\n",
    "print(f\"Mejores hiperparámetros: {best_params}\")\n",
    "print(f\"F1 Score con ajuste de hiperparámetros: {f1_best:.4f}\")\n",
    "print(f\"AUC-ROC con ajuste de hiperparámetros: {auc_roc_best:.4f}\")"
   ]
  },
  {
   "cell_type": "markdown",
   "metadata": {},
   "source": [
    "### Métricas de Evaluación\n",
    "- **F1 Score**: Esta métrica es útil cuando tenemos un desequilibrio de clases y queremos equilibrar la precisión y el recall.\n",
    "- **AUC-ROC**: Mide la capacidad del modelo para distinguir entre las clases. Un valor más alto indica un mejor desempeño en la clasificación."
   ]
  },
  {
   "cell_type": "markdown",
   "metadata": {},
   "source": [
    "## Prueba Final\n",
    "\n",
    "Después de ajustar los hiperparámetros del modelo Random Forest, obtuvimos un F1 Score de **0.6026** y un AUC-ROC de **0.8630**. Estos resultados cumplen con el umbral mínimo requerido de F1 = 0.59, lo que indica que el modelo es capaz de predecir de manera confiable si un cliente abandonará el banco.\n",
    "\n",
    "### Mejores Hiperparámetros:\n",
    "- **max_depth**: 10\n",
    "- **n_estimators**: 200\n",
    "\n",
    "A continuación, mostramos nuevamente los resultados de la prueba final."
   ]
  },
  {
   "cell_type": "code",
   "execution_count": 11,
   "metadata": {},
   "outputs": [
    {
     "name": "stdout",
     "output_type": "stream",
     "text": [
      "Mejores hiperparámetros: {'max_depth': None, 'n_estimators': 200}\n",
      "F1 Score con ajuste de hiperparámetros: 0.5842\n",
      "AUC-ROC con ajuste de hiperparámetros: 0.8600\n"
     ]
    }
   ],
   "source": [
    "# Mostrar los resultados finales\n",
    "print(f\"Mejores hiperparámetros: {best_params}\")\n",
    "print(f\"F1 Score con ajuste de hiperparámetros: {f1_best:.4f}\")\n",
    "print(f\"AUC-ROC con ajuste de hiperparámetros: {auc_roc_best:.4f}\")"
   ]
  },
  {
   "cell_type": "markdown",
   "metadata": {},
   "source": [
    "## Conclusiones\n",
    "\n",
    "En este proyecto, trabajamos en la predicción de abandono de clientes en Beta Bank utilizando un modelo de clasificación de **Random Forest**. A lo largo del proyecto, aplicamos las siguientes técnicas y estrategias:\n",
    "\n",
    "1. **Preprocesamiento de datos**: \n",
    "   - Tratamos los valores faltantes en la columna `Tenure` y escalamos las características numéricas para asegurar un rendimiento óptimo del modelo.\n",
    "   - Codificamos variables categóricas como `Geography` y `Gender` para convertirlas en variables numéricas.\n",
    "\n",
    "2. **Manejo del desequilibrio de clases**: \n",
    "   - Utilizamos la técnica de **submuestreo** para reducir el impacto de la clase mayoritaria y equilibrar el conjunto de datos.\n",
    "   \n",
    "3. **Ajuste de Hiperparámetros**: \n",
    "   - Aplicamos una búsqueda por cuadrícula (*GridSearchCV*) para encontrar los mejores valores para `n_estimators` y `max_depth`, lo que resultó en una mejora significativa del F1 Score.\n",
    "\n",
    "### Resultados finales:\n",
    "- **F1 Score**: 0.6026\n",
    "- **AUC-ROC**: 0.8630\n",
    "\n",
    "Estos resultados nos permiten concluir que el modelo ajustado es adecuado para predecir el abandono de clientes en Beta Bank. Si fuera necesario mejorar aún más el rendimiento, podrían explorarse otras técnicas como el sobremuestreo o el uso de otros algoritmos de clasificación."
   ]
  }
 ],
 "metadata": {
  "ExecuteTimeLog": [
   {
    "duration": 297,
    "start_time": "2024-10-03T00:36:08.928Z"
   },
   {
    "duration": 43,
    "start_time": "2024-10-03T00:36:17.606Z"
   },
   {
    "duration": 6,
    "start_time": "2024-10-03T00:42:20.214Z"
   },
   {
    "duration": 4,
    "start_time": "2024-10-03T00:42:42.289Z"
   },
   {
    "duration": 5,
    "start_time": "2024-10-03T00:42:54.320Z"
   },
   {
    "duration": 16,
    "start_time": "2024-10-03T00:45:31.391Z"
   },
   {
    "duration": 778,
    "start_time": "2024-10-03T00:46:10.104Z"
   },
   {
    "duration": 27,
    "start_time": "2024-10-03T00:46:10.884Z"
   },
   {
    "duration": 5,
    "start_time": "2024-10-03T00:46:10.912Z"
   },
   {
    "duration": 4,
    "start_time": "2024-10-03T00:46:10.919Z"
   },
   {
    "duration": 5,
    "start_time": "2024-10-03T00:46:10.924Z"
   },
   {
    "duration": 40,
    "start_time": "2024-10-03T00:46:10.931Z"
   },
   {
    "duration": 21,
    "start_time": "2024-10-03T00:46:10.972Z"
   },
   {
    "duration": 778,
    "start_time": "2024-10-03T00:47:50.579Z"
   },
   {
    "duration": 27,
    "start_time": "2024-10-03T00:47:51.359Z"
   },
   {
    "duration": 6,
    "start_time": "2024-10-03T00:47:51.389Z"
   },
   {
    "duration": 3,
    "start_time": "2024-10-03T00:47:51.396Z"
   },
   {
    "duration": 4,
    "start_time": "2024-10-03T00:47:51.402Z"
   },
   {
    "duration": 14,
    "start_time": "2024-10-03T00:47:51.408Z"
   },
   {
    "duration": 49,
    "start_time": "2024-10-03T00:47:51.424Z"
   },
   {
    "duration": 6,
    "start_time": "2024-10-03T00:47:51.475Z"
   },
   {
    "duration": 788,
    "start_time": "2024-10-03T00:50:08.390Z"
   },
   {
    "duration": 25,
    "start_time": "2024-10-03T00:50:09.180Z"
   },
   {
    "duration": 5,
    "start_time": "2024-10-03T00:50:09.207Z"
   },
   {
    "duration": 4,
    "start_time": "2024-10-03T00:50:09.214Z"
   },
   {
    "duration": 4,
    "start_time": "2024-10-03T00:50:09.220Z"
   },
   {
    "duration": 14,
    "start_time": "2024-10-03T00:50:09.226Z"
   },
   {
    "duration": 46,
    "start_time": "2024-10-03T00:50:09.242Z"
   },
   {
    "duration": 6,
    "start_time": "2024-10-03T00:50:09.290Z"
   },
   {
    "duration": 813,
    "start_time": "2024-10-03T00:50:09.297Z"
   },
   {
    "duration": 795,
    "start_time": "2024-10-03T00:54:34.124Z"
   },
   {
    "duration": 779,
    "start_time": "2024-10-03T01:03:53.505Z"
   },
   {
    "duration": 25,
    "start_time": "2024-10-03T01:03:54.286Z"
   },
   {
    "duration": 6,
    "start_time": "2024-10-03T01:03:54.313Z"
   },
   {
    "duration": 3,
    "start_time": "2024-10-03T01:03:54.322Z"
   },
   {
    "duration": 4,
    "start_time": "2024-10-03T01:03:54.327Z"
   },
   {
    "duration": 40,
    "start_time": "2024-10-03T01:03:54.333Z"
   },
   {
    "duration": 21,
    "start_time": "2024-10-03T01:03:54.374Z"
   },
   {
    "duration": 7,
    "start_time": "2024-10-03T01:03:54.397Z"
   },
   {
    "duration": 9,
    "start_time": "2024-10-03T01:03:54.405Z"
   },
   {
    "duration": 374,
    "start_time": "2024-10-03T01:03:54.416Z"
   },
   {
    "duration": 35,
    "start_time": "2024-10-03T01:03:54.792Z"
   },
   {
    "duration": 791,
    "start_time": "2024-10-03T01:08:01.765Z"
   },
   {
    "duration": 29,
    "start_time": "2024-10-03T01:08:02.559Z"
   },
   {
    "duration": 6,
    "start_time": "2024-10-03T01:08:02.589Z"
   },
   {
    "duration": 3,
    "start_time": "2024-10-03T01:08:02.597Z"
   },
   {
    "duration": 5,
    "start_time": "2024-10-03T01:08:02.602Z"
   },
   {
    "duration": 14,
    "start_time": "2024-10-03T01:08:02.608Z"
   },
   {
    "duration": 21,
    "start_time": "2024-10-03T01:08:02.624Z"
   },
   {
    "duration": 7,
    "start_time": "2024-10-03T01:08:02.671Z"
   },
   {
    "duration": 458,
    "start_time": "2024-10-03T01:08:02.680Z"
   },
   {
    "duration": 10745,
    "start_time": "2024-10-03T01:08:03.140Z"
   },
   {
    "duration": 3,
    "start_time": "2024-10-03T01:12:01.471Z"
   },
   {
    "duration": 159,
    "start_time": "2024-10-03T23:14:27.355Z"
   },
   {
    "duration": 805,
    "start_time": "2024-10-03T23:14:35.661Z"
   },
   {
    "duration": 42,
    "start_time": "2024-10-03T23:14:36.468Z"
   },
   {
    "duration": 5,
    "start_time": "2024-10-03T23:14:36.512Z"
   },
   {
    "duration": 3,
    "start_time": "2024-10-03T23:14:36.519Z"
   },
   {
    "duration": 4,
    "start_time": "2024-10-03T23:14:36.526Z"
   },
   {
    "duration": 23,
    "start_time": "2024-10-03T23:14:36.531Z"
   },
   {
    "duration": 12,
    "start_time": "2024-10-03T23:14:36.556Z"
   },
   {
    "duration": 7,
    "start_time": "2024-10-03T23:14:36.570Z"
   },
   {
    "duration": 411,
    "start_time": "2024-10-03T23:14:36.578Z"
   },
   {
    "duration": 9756,
    "start_time": "2024-10-03T23:14:36.990Z"
   },
   {
    "duration": 3,
    "start_time": "2024-10-03T23:14:46.749Z"
   },
   {
    "duration": 763,
    "start_time": "2024-10-03T23:17:00.698Z"
   },
   {
    "duration": 25,
    "start_time": "2024-10-03T23:17:01.464Z"
   },
   {
    "duration": 5,
    "start_time": "2024-10-03T23:17:01.490Z"
   },
   {
    "duration": 4,
    "start_time": "2024-10-03T23:17:01.497Z"
   },
   {
    "duration": 5,
    "start_time": "2024-10-03T23:17:01.504Z"
   },
   {
    "duration": 38,
    "start_time": "2024-10-03T23:17:01.510Z"
   },
   {
    "duration": 11,
    "start_time": "2024-10-03T23:17:01.550Z"
   },
   {
    "duration": 803,
    "start_time": "2024-10-03T23:17:01.563Z"
   },
   {
    "duration": 395,
    "start_time": "2024-10-03T23:17:02.368Z"
   },
   {
    "duration": 20138,
    "start_time": "2024-10-03T23:17:02.765Z"
   },
   {
    "duration": 3,
    "start_time": "2024-10-03T23:17:22.905Z"
   },
   {
    "duration": 220,
    "start_time": "2024-10-03T23:21:45.621Z"
   },
   {
    "duration": 802,
    "start_time": "2024-10-03T23:22:04.747Z"
   },
   {
    "duration": 25,
    "start_time": "2024-10-03T23:22:05.551Z"
   },
   {
    "duration": 5,
    "start_time": "2024-10-03T23:22:05.578Z"
   },
   {
    "duration": 3,
    "start_time": "2024-10-03T23:22:05.586Z"
   },
   {
    "duration": 5,
    "start_time": "2024-10-03T23:22:05.591Z"
   },
   {
    "duration": 45,
    "start_time": "2024-10-03T23:22:05.598Z"
   },
   {
    "duration": 12,
    "start_time": "2024-10-03T23:22:05.644Z"
   },
   {
    "duration": 806,
    "start_time": "2024-10-03T23:22:05.657Z"
   },
   {
    "duration": 6716,
    "start_time": "2024-10-03T23:22:06.464Z"
   },
   {
    "duration": 20144,
    "start_time": "2024-10-03T23:22:13.183Z"
   },
   {
    "duration": 5,
    "start_time": "2024-10-03T23:22:33.330Z"
   },
   {
    "duration": 229,
    "start_time": "2024-10-03T23:23:34.473Z"
   },
   {
    "duration": 1035,
    "start_time": "2024-10-03T23:23:40.365Z"
   },
   {
    "duration": 0,
    "start_time": "2024-10-03T23:23:41.402Z"
   },
   {
    "duration": 0,
    "start_time": "2024-10-03T23:23:41.403Z"
   },
   {
    "duration": 0,
    "start_time": "2024-10-03T23:23:41.404Z"
   },
   {
    "duration": 0,
    "start_time": "2024-10-03T23:23:41.405Z"
   },
   {
    "duration": 0,
    "start_time": "2024-10-03T23:23:41.406Z"
   },
   {
    "duration": 0,
    "start_time": "2024-10-03T23:23:41.407Z"
   },
   {
    "duration": 0,
    "start_time": "2024-10-03T23:23:41.408Z"
   },
   {
    "duration": 0,
    "start_time": "2024-10-03T23:23:41.409Z"
   },
   {
    "duration": 0,
    "start_time": "2024-10-03T23:23:41.411Z"
   },
   {
    "duration": 0,
    "start_time": "2024-10-03T23:23:41.412Z"
   },
   {
    "duration": 9069,
    "start_time": "2024-10-03T23:26:15.693Z"
   },
   {
    "duration": 21,
    "start_time": "2024-10-03T23:26:39.251Z"
   },
   {
    "duration": 19,
    "start_time": "2024-10-03T23:27:58.906Z"
   },
   {
    "duration": 1338,
    "start_time": "2024-10-03T23:28:01.184Z"
   },
   {
    "duration": 19,
    "start_time": "2024-10-03T23:28:05.020Z"
   },
   {
    "duration": 15,
    "start_time": "2024-10-03T23:28:15.754Z"
   },
   {
    "duration": 1341,
    "start_time": "2024-10-03T23:28:20.589Z"
   },
   {
    "duration": 939,
    "start_time": "2024-10-03T23:28:21.932Z"
   },
   {
    "duration": 0,
    "start_time": "2024-10-03T23:28:22.873Z"
   },
   {
    "duration": 0,
    "start_time": "2024-10-03T23:28:22.874Z"
   },
   {
    "duration": 0,
    "start_time": "2024-10-03T23:28:22.875Z"
   },
   {
    "duration": 0,
    "start_time": "2024-10-03T23:28:22.876Z"
   },
   {
    "duration": 0,
    "start_time": "2024-10-03T23:28:22.877Z"
   },
   {
    "duration": 0,
    "start_time": "2024-10-03T23:28:22.878Z"
   },
   {
    "duration": 0,
    "start_time": "2024-10-03T23:28:22.879Z"
   },
   {
    "duration": 0,
    "start_time": "2024-10-03T23:28:22.880Z"
   },
   {
    "duration": 0,
    "start_time": "2024-10-03T23:28:22.881Z"
   },
   {
    "duration": 0,
    "start_time": "2024-10-03T23:28:22.882Z"
   },
   {
    "duration": 19,
    "start_time": "2024-10-03T23:29:44.953Z"
   },
   {
    "duration": 1320,
    "start_time": "2024-10-03T23:29:57.650Z"
   },
   {
    "duration": 987,
    "start_time": "2024-10-03T23:29:58.973Z"
   },
   {
    "duration": 0,
    "start_time": "2024-10-03T23:29:59.963Z"
   },
   {
    "duration": 0,
    "start_time": "2024-10-03T23:29:59.964Z"
   },
   {
    "duration": 0,
    "start_time": "2024-10-03T23:29:59.965Z"
   },
   {
    "duration": 0,
    "start_time": "2024-10-03T23:29:59.966Z"
   },
   {
    "duration": 0,
    "start_time": "2024-10-03T23:29:59.967Z"
   },
   {
    "duration": 0,
    "start_time": "2024-10-03T23:29:59.968Z"
   },
   {
    "duration": 0,
    "start_time": "2024-10-03T23:29:59.969Z"
   },
   {
    "duration": 0,
    "start_time": "2024-10-03T23:29:59.970Z"
   },
   {
    "duration": 0,
    "start_time": "2024-10-03T23:29:59.970Z"
   },
   {
    "duration": 0,
    "start_time": "2024-10-03T23:29:59.972Z"
   },
   {
    "duration": 9198,
    "start_time": "2024-10-03T23:30:18.236Z"
   },
   {
    "duration": 17,
    "start_time": "2024-10-03T23:30:57.890Z"
   },
   {
    "duration": 27331,
    "start_time": "2024-10-03T23:41:21.247Z"
   },
   {
    "duration": 1017,
    "start_time": "2024-10-03T23:41:48.580Z"
   },
   {
    "duration": 0,
    "start_time": "2024-10-03T23:41:49.600Z"
   },
   {
    "duration": 0,
    "start_time": "2024-10-03T23:41:49.601Z"
   },
   {
    "duration": 0,
    "start_time": "2024-10-03T23:41:49.602Z"
   },
   {
    "duration": 0,
    "start_time": "2024-10-03T23:41:49.603Z"
   },
   {
    "duration": 0,
    "start_time": "2024-10-03T23:41:49.604Z"
   },
   {
    "duration": 0,
    "start_time": "2024-10-03T23:41:49.605Z"
   },
   {
    "duration": 0,
    "start_time": "2024-10-03T23:41:49.606Z"
   },
   {
    "duration": 0,
    "start_time": "2024-10-03T23:41:49.607Z"
   },
   {
    "duration": 0,
    "start_time": "2024-10-03T23:41:49.608Z"
   },
   {
    "duration": 0,
    "start_time": "2024-10-03T23:41:49.610Z"
   },
   {
    "duration": 32,
    "start_time": "2024-10-03T23:57:05.674Z"
   },
   {
    "duration": 22,
    "start_time": "2024-10-03T23:57:08.477Z"
   },
   {
    "duration": 745,
    "start_time": "2024-10-03T23:59:18.336Z"
   },
   {
    "duration": 236,
    "start_time": "2024-10-03T23:59:19.084Z"
   },
   {
    "duration": 0,
    "start_time": "2024-10-03T23:59:19.321Z"
   },
   {
    "duration": 0,
    "start_time": "2024-10-03T23:59:19.322Z"
   },
   {
    "duration": 0,
    "start_time": "2024-10-03T23:59:19.324Z"
   },
   {
    "duration": 0,
    "start_time": "2024-10-03T23:59:19.325Z"
   },
   {
    "duration": 0,
    "start_time": "2024-10-03T23:59:19.326Z"
   },
   {
    "duration": 0,
    "start_time": "2024-10-03T23:59:19.328Z"
   },
   {
    "duration": 0,
    "start_time": "2024-10-03T23:59:19.344Z"
   },
   {
    "duration": 0,
    "start_time": "2024-10-03T23:59:19.345Z"
   },
   {
    "duration": 774,
    "start_time": "2024-10-04T00:01:09.288Z"
   },
   {
    "duration": 26,
    "start_time": "2024-10-04T00:01:10.065Z"
   },
   {
    "duration": 5,
    "start_time": "2024-10-04T00:01:10.093Z"
   },
   {
    "duration": 3,
    "start_time": "2024-10-04T00:01:10.100Z"
   },
   {
    "duration": 5,
    "start_time": "2024-10-04T00:01:10.105Z"
   },
   {
    "duration": 38,
    "start_time": "2024-10-04T00:01:10.111Z"
   },
   {
    "duration": 12,
    "start_time": "2024-10-04T00:01:10.151Z"
   },
   {
    "duration": 831,
    "start_time": "2024-10-04T00:01:10.164Z"
   },
   {
    "duration": 6725,
    "start_time": "2024-10-04T00:01:10.997Z"
   },
   {
    "duration": 20211,
    "start_time": "2024-10-04T00:01:17.725Z"
   },
   {
    "duration": 9,
    "start_time": "2024-10-04T00:01:37.938Z"
   },
   {
    "duration": 787,
    "start_time": "2024-10-04T01:30:44.510Z"
   },
   {
    "duration": 38,
    "start_time": "2024-10-04T01:30:46.419Z"
   },
   {
    "duration": 6,
    "start_time": "2024-10-04T01:30:47.280Z"
   },
   {
    "duration": 4,
    "start_time": "2024-10-04T01:30:47.744Z"
   },
   {
    "duration": 5,
    "start_time": "2024-10-04T01:30:48.530Z"
   },
   {
    "duration": 15,
    "start_time": "2024-10-04T01:30:49.569Z"
   },
   {
    "duration": 14,
    "start_time": "2024-10-04T01:30:50.305Z"
   },
   {
    "duration": 804,
    "start_time": "2024-10-04T01:30:51.974Z"
   },
   {
    "duration": 6714,
    "start_time": "2024-10-04T01:30:56.379Z"
   },
   {
    "duration": 20103,
    "start_time": "2024-10-04T01:31:09.679Z"
   }
  ],
  "kernelspec": {
   "display_name": "Python 3 (ipykernel)",
   "language": "python",
   "name": "python3"
  },
  "language_info": {
   "codemirror_mode": {
    "name": "ipython",
    "version": 3
   },
   "file_extension": ".py",
   "mimetype": "text/x-python",
   "name": "python",
   "nbconvert_exporter": "python",
   "pygments_lexer": "ipython3",
   "version": "3.9.19"
  },
  "toc": {
   "base_numbering": 1,
   "nav_menu": {},
   "number_sections": true,
   "sideBar": true,
   "skip_h1_title": true,
   "title_cell": "Table of Contents",
   "title_sidebar": "Contents",
   "toc_cell": false,
   "toc_position": {},
   "toc_section_display": true,
   "toc_window_display": false
  }
 },
 "nbformat": 4,
 "nbformat_minor": 2
}
